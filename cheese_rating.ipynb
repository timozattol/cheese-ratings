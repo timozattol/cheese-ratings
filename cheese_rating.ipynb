{
 "cells": [
  {
   "cell_type": "code",
   "execution_count": null,
   "metadata": {},
   "outputs": [],
   "source": [
    "import numpy as np\n",
    "import pandas as pd"
   ]
  },
  {
   "cell_type": "code",
   "execution_count": null,
   "metadata": {},
   "outputs": [],
   "source": [
    "df = pd.read_json(\"ratings.json\")\n",
    "df = df.set_index(\"name\")\n",
    "df.head(2)"
   ]
  },
  {
   "cell_type": "code",
   "execution_count": null,
   "metadata": {},
   "outputs": [],
   "source": [
    "np.array([1, 2]).sum()"
   ]
  },
  {
   "cell_type": "code",
   "execution_count": null,
   "metadata": {},
   "outputs": [],
   "source": [
    "def score_ratings(ratings):\n",
    "    \"\"\"Takes an array of ratings of length 5, return an aggregated score:\n",
    "    Array contains the number of votes that were \"bad\", \"okay\", \"good\", \"great\" and \"amazing\"\n",
    "    \"\"\"\n",
    "    \n",
    "    # -1 point for bad, 0 for okay, 1 for good, 2 for great, 3 for amazing\n",
    "    points = np.array([-1, 0, 1, 2, 3])\n",
    "    \n",
    "    ratings = np.array(ratings)\n",
    "    \n",
    "    # Number of votes\n",
    "    vote_count = ratings.sum()\n",
    "    \n",
    "    final_score = (ratings * points).sum() / vote_count\n",
    "    \n",
    "    return final_score"
   ]
  },
  {
   "cell_type": "code",
   "execution_count": null,
   "metadata": {},
   "outputs": [],
   "source": [
    "# worst score is -1, best is +3. Not sensitive to number of votes\n",
    "score_ratings([3, 0, 0, 0, 0]), score_ratings([0, 0, 0, 0, 10])"
   ]
  },
  {
   "cell_type": "code",
   "execution_count": null,
   "metadata": {},
   "outputs": [],
   "source": [
    "# If votes are centered around a rating, final score reflects it\n",
    "# Centered around \"good\", centered around \"great\"\n",
    "score_ratings([1, 1, 1, 1, 1]), score_ratings([0, 0, 2, 3, 2])"
   ]
  },
  {
   "cell_type": "code",
   "execution_count": null,
   "metadata": {},
   "outputs": [],
   "source": [
    "categories = [\"appearance_aroma\", \"texture\", \"finish\"]\n",
    "\n",
    "for category in categories:\n",
    "    score_attribute = \"{}_score\".format(category)\n",
    "    df[score_attribute] = df[category].apply(score_ratings)\n",
    "    \n",
    "df.head(2)"
   ]
  },
  {
   "cell_type": "code",
   "execution_count": null,
   "metadata": {},
   "outputs": [],
   "source": [
    "df.finish_score.sort_values().plot(kind=\"bar\", title=\"Finish score\")."
   ]
  },
  {
   "cell_type": "code",
   "execution_count": null,
   "metadata": {},
   "outputs": [],
   "source": [
    "scores_by_origin_df = df.groupby(by=\"origin\").mean()\n",
    "scores_by_origin_df"
   ]
  },
  {
   "cell_type": "code",
   "execution_count": null,
   "metadata": {},
   "outputs": [],
   "source": [
    "title = \"Number of cheese rated per origin\"\n",
    "df.groupby(by=\"origin\").finish.count().sort_values().plot(kind=\"bar\", title=title)"
   ]
  },
  {
   "cell_type": "code",
   "execution_count": null,
   "metadata": {},
   "outputs": [],
   "source": [
    "scores_by_origin_df.sort_values(by=\"finish_score\").plot(kind=\"bar\", title=\"Score averages per origin\")"
   ]
  },
  {
   "cell_type": "code",
   "execution_count": null,
   "metadata": {},
   "outputs": [],
   "source": [
    "categories_scores = [\"{}_score\".format(category) for category in categories]\n",
    "df[categories_scores].sort_values(by=\"finish_score\").plot(kind=\"bar\", figsize=(12, 4))"
   ]
  },
  {
   "cell_type": "code",
   "execution_count": null,
   "metadata": {},
   "outputs": [],
   "source": [
    "df[\"score_difference\"] = df[\"finish_score\"] - df[\"appearance_aroma_score\"]\n",
    "\n",
    "df.score_difference.sort_values().plot(kind=\"bar\", title=\"Score difference between appearance and finish\")"
   ]
  },
  {
   "cell_type": "markdown",
   "metadata": {},
   "source": [
    "The \"Fromage d'alpage vaudois\" is the most disappointing. Saint Agur is the most suprisingly good."
   ]
  },
  {
   "cell_type": "code",
   "execution_count": null,
   "metadata": {},
   "outputs": [],
   "source": [
    "df[\"finish_variance\"] = df[\"finish\"].apply(lambda votes: np.array(votes).var())\n",
    "\n",
    "df[\"finish_variance\"].sort_values().plot(kind=\"bar\", title='Most \"controversial\" cheeses (variance)')"
   ]
  },
  {
   "cell_type": "code",
   "execution_count": null,
   "metadata": {},
   "outputs": [],
   "source": [
    "# Df with flavors as columns\n",
    "# pd.DataFrame(df.flavor, )"
   ]
  },
  {
   "cell_type": "markdown",
   "metadata": {},
   "source": [
    "# Ideas: \n",
    "- Original: the only one to have a specific flavor\n",
    "- Most complex (lots of aromas)\n",
    "- Most simple\n",
    "- Correlation finish score / one of the attributes\n"
   ]
  },
  {
   "cell_type": "code",
   "execution_count": null,
   "metadata": {},
   "outputs": [],
   "source": []
  }
 ],
 "metadata": {
  "kernelspec": {
   "display_name": "Python 3",
   "language": "python",
   "name": "python3"
  },
  "language_info": {
   "codemirror_mode": {
    "name": "ipython",
    "version": 3
   },
   "file_extension": ".py",
   "mimetype": "text/x-python",
   "name": "python",
   "nbconvert_exporter": "python",
   "pygments_lexer": "ipython3",
   "version": "3.6.4"
  }
 },
 "nbformat": 4,
 "nbformat_minor": 2
}
